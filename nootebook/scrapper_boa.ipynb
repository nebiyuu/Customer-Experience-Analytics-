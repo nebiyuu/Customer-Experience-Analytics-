{
 "cells": [
  {
   "cell_type": "code",
   "execution_count": 3,
   "id": "d216f0fe",
   "metadata": {},
   "outputs": [],
   "source": [
    "import pandas as pd"
   ]
  },
  {
   "cell_type": "code",
   "execution_count": 7,
   "id": "aafcac90",
   "metadata": {},
   "outputs": [
    {
     "name": "stdout",
     "output_type": "stream",
     "text": [
      "{'app_name': 'BoA Mobile', 'installs': '1,000,000+', 'version': '25.05.03'}\n"
     ]
    },
    {
     "name": "stderr",
     "output_type": "stream",
     "text": [
      "Scraping boa: 100%|██████████| 800/800 [00:27<00:00, 29.22it/s]"
     ]
    },
    {
     "name": "stdout",
     "output_type": "stream",
     "text": [
      "                               reviewId           userName  \\\n",
      "0  937102c6-ae88-419c-994b-80e520faacb8    Phillmon Haftom   \n",
      "1  3559b91c-fad9-4032-bebe-cf99974b9628    Robel Alebachew   \n",
      "2  10e85f30-540d-4810-ba89-85a7e004480b  Haymanot Anberber   \n",
      "3  d7f07898-4ba1-47b4-9e8c-a3cc10b1bf0f  Mohamed Abdillahi   \n",
      "4  2ca9480b-ff5f-4b59-952c-5921db83dab2         Ahadu tech   \n",
      "\n",
      "                                           userImage  \\\n",
      "0  https://play-lh.googleusercontent.com/a/ACg8oc...   \n",
      "1  https://play-lh.googleusercontent.com/a/ACg8oc...   \n",
      "2  https://play-lh.googleusercontent.com/a/ACg8oc...   \n",
      "3  https://play-lh.googleusercontent.com/a-/ALV-U...   \n",
      "4  https://play-lh.googleusercontent.com/a-/ALV-U...   \n",
      "\n",
      "                                             content  score  thumbsUpCount  \\\n",
      "0                                   it's not working      3              0   \n",
      "1  Hello, I’m facing a problem with the BOA Mobil...      1              1   \n",
      "2                                        exceptional      5              0   \n",
      "3                               BoA Mobile good bank      5              0   \n",
      "4                    this is worest app 24/7 loading      1              0   \n",
      "\n",
      "  reviewCreatedVersion                  at replyContent repliedAt appVersion  \n",
      "0             25.05.03 2025-06-05 11:57:36         None      None   25.05.03  \n",
      "1                 None 2025-06-03 16:21:34         None      None       None  \n",
      "2                 None 2025-06-03 10:32:35         None      None       None  \n",
      "3             25.05.03 2025-06-02 14:25:12         None      None   25.05.03  \n",
      "4             25.05.03 2025-06-01 15:51:10         None      None   25.05.03  \n",
      "Saved 800 reviews to ../data/raw/boa_reviews_20250610.csv\n"
     ]
    },
    {
     "name": "stderr",
     "output_type": "stream",
     "text": [
      "\n"
     ]
    },
    {
     "data": {
      "text/plain": [
       "'../data/raw/boa_reviews_20250610.csv'"
      ]
     },
     "execution_count": 7,
     "metadata": {},
     "output_type": "execute_result"
    }
   ],
   "source": [
    "# First, make sure the scripts directory is in your Python path\n",
    "import sys\n",
    "sys.path.append('../scripts')\n",
    "\n",
    "from bank_scraper import fetch_app_info, scrape_reviews, save_reviews, BANK_APPS\n",
    "\n",
    "# Example: Fetch app info for CBE\n",
    "app_info = fetch_app_info(BANK_APPS['boa'])\n",
    "print(app_info)\n",
    "\n",
    "# Example: Scrape reviews for BOA (limit to 100 for demo)\n",
    "df = scrape_reviews(BANK_APPS['boa'], 'boa', max_reviews=800)\n",
    "print(df.head())\n",
    "\n",
    "# Save reviews to CSV (optional)\n",
    "save_reviews(df, 'boa')"
   ]
  },
  {
   "cell_type": "code",
   "execution_count": 8,
   "id": "c54e8a47",
   "metadata": {},
   "outputs": [],
   "source": [
    "from importer import import_reviews\n",
    "df = import_reviews(\"../data/raw/boa_reviews_20250610.csv\")\n"
   ]
  },
  {
   "cell_type": "code",
   "execution_count": 9,
   "id": "51b8d653",
   "metadata": {},
   "outputs": [
    {
     "name": "stdout",
     "output_type": "stream",
     "text": [
      "<class 'pandas.core.frame.DataFrame'>\n",
      "RangeIndex: 800 entries, 0 to 799\n",
      "Data columns (total 11 columns):\n",
      " #   Column                Non-Null Count  Dtype  \n",
      "---  ------                --------------  -----  \n",
      " 0   reviewId              800 non-null    object \n",
      " 1   userName              800 non-null    object \n",
      " 2   userImage             800 non-null    object \n",
      " 3   content               800 non-null    object \n",
      " 4   score                 800 non-null    int64  \n",
      " 5   thumbsUpCount         800 non-null    int64  \n",
      " 6   reviewCreatedVersion  570 non-null    object \n",
      " 7   at                    800 non-null    object \n",
      " 8   replyContent          0 non-null      float64\n",
      " 9   repliedAt             0 non-null      float64\n",
      " 10  appVersion            570 non-null    object \n",
      "dtypes: float64(2), int64(2), object(7)\n",
      "memory usage: 68.9+ KB\n"
     ]
    }
   ],
   "source": [
    "df.info()"
   ]
  },
  {
   "cell_type": "code",
   "execution_count": 10,
   "id": "89c2bc9d",
   "metadata": {},
   "outputs": [],
   "source": [
    "df = df.drop(columns=['replyContent', 'repliedAt'])\n"
   ]
  },
  {
   "cell_type": "code",
   "execution_count": 11,
   "id": "6212452f",
   "metadata": {},
   "outputs": [
    {
     "name": "stdout",
     "output_type": "stream",
     "text": [
      "<class 'pandas.core.frame.DataFrame'>\n",
      "RangeIndex: 800 entries, 0 to 799\n",
      "Data columns (total 9 columns):\n",
      " #   Column                Non-Null Count  Dtype         \n",
      "---  ------                --------------  -----         \n",
      " 0   reviewId              800 non-null    object        \n",
      " 1   userName              800 non-null    object        \n",
      " 2   userImage             800 non-null    object        \n",
      " 3   content               800 non-null    object        \n",
      " 4   score                 800 non-null    int64         \n",
      " 5   thumbsUpCount         800 non-null    int64         \n",
      " 6   reviewCreatedVersion  570 non-null    object        \n",
      " 7   at                    800 non-null    datetime64[ns]\n",
      " 8   appVersion            570 non-null    object        \n",
      "dtypes: datetime64[ns](1), int64(2), object(6)\n",
      "memory usage: 56.4+ KB\n"
     ]
    }
   ],
   "source": [
    "# convert date to datetime\n",
    "df['at'] = pd.to_datetime(df['at'], errors='coerce')\n",
    "\n",
    "# print type of at\n",
    "df.info()"
   ]
  },
  {
   "cell_type": "code",
   "execution_count": null,
   "id": "4d689dd4",
   "metadata": {},
   "outputs": [],
   "source": []
  },
  {
   "cell_type": "code",
   "execution_count": 12,
   "id": "ce8df27b",
   "metadata": {},
   "outputs": [],
   "source": [
    "from sentiment import analyze_sentiment\n",
    "\n",
    "# ...existing code...\n",
    "from sentiment import analyze_sentiment\n",
    "\n",
    "# Apply sentiment analysis to each review and store in a new column\n",
    "df['sentiment'] = df['content'].apply(analyze_sentiment)\n"
   ]
  },
  {
   "cell_type": "markdown",
   "id": "0bae0147",
   "metadata": {},
   "source": []
  },
  {
   "cell_type": "code",
   "execution_count": 13,
   "id": "577bef21",
   "metadata": {},
   "outputs": [
    {
     "data": {
      "text/plain": [
       "reviewId                800\n",
       "userName                800\n",
       "userImage               800\n",
       "content                 800\n",
       "score                   800\n",
       "thumbsUpCount           800\n",
       "reviewCreatedVersion    570\n",
       "at                      800\n",
       "appVersion              570\n",
       "sentiment               800\n",
       "dtype: int64"
      ]
     },
     "execution_count": 13,
     "metadata": {},
     "output_type": "execute_result"
    }
   ],
   "source": [
    "df['sentiment'].value_counts()\n",
    "df.count()\n"
   ]
  }
 ],
 "metadata": {
  "kernelspec": {
   "display_name": "Python 3",
   "language": "python",
   "name": "python3"
  },
  "language_info": {
   "codemirror_mode": {
    "name": "ipython",
    "version": 3
   },
   "file_extension": ".py",
   "mimetype": "text/x-python",
   "name": "python",
   "nbconvert_exporter": "python",
   "pygments_lexer": "ipython3",
   "version": "3.13.3"
  }
 },
 "nbformat": 4,
 "nbformat_minor": 5
}
