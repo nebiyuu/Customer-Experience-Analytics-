{
 "cells": [
  {
   "cell_type": "code",
   "execution_count": 23,
   "id": "d709de07",
   "metadata": {},
   "outputs": [],
   "source": [
    "import pandas as pd"
   ]
  },
  {
   "cell_type": "code",
   "execution_count": 24,
   "id": "e9d55f89",
   "metadata": {},
   "outputs": [
    {
     "name": "stdout",
     "output_type": "stream",
     "text": [
      "{'app_name': 'Dashen Bank', 'installs': '500,000+', 'version': '1.0.16'}\n"
     ]
    },
    {
     "name": "stderr",
     "output_type": "stream",
     "text": [
      "Scraping dashen:  45%|████▌     | 452/1000 [00:15<00:19, 28.57it/s] "
     ]
    },
    {
     "name": "stdout",
     "output_type": "stream",
     "text": [
      "                               reviewId                 userName  \\\n",
      "0  b69611f8-8016-417f-a3be-99ce2514dd09                    Ab Cd   \n",
      "1  8cb388e3-6766-4f38-99d9-6f53198406dc           Nebiyat Zemede   \n",
      "2  d305d857-0fc0-4458-9ee7-5a742fe48c33  Kalidabdurahaman Hassen   \n",
      "3  6ab16d21-d2c8-4235-9c48-ff713bfde731                 Adonijah   \n",
      "4  22818807-3368-446c-8a3b-d3ca2e07a2d8                  OBSA KA   \n",
      "\n",
      "                                           userImage  \\\n",
      "0  https://play-lh.googleusercontent.com/a/ACg8oc...   \n",
      "1  https://play-lh.googleusercontent.com/a/ACg8oc...   \n",
      "2  https://play-lh.googleusercontent.com/a-/ALV-U...   \n",
      "3  https://play-lh.googleusercontent.com/a-/ALV-U...   \n",
      "4  https://play-lh.googleusercontent.com/a-/ALV-U...   \n",
      "\n",
      "                                             content  score  thumbsUpCount  \\\n",
      "0                      this app is good for you guys      5              0   \n",
      "1                                                wow      5              0   \n",
      "2                                              kalid      5              0   \n",
      "3  I like this mobile banking app very much. Over...      2              0   \n",
      "4                                               love      3              0   \n",
      "\n",
      "  reviewCreatedVersion                  at replyContent repliedAt appVersion  \n",
      "0                 None 2025-06-09 11:49:55         None      None       None  \n",
      "1                 None 2025-06-09 01:37:09         None      None       None  \n",
      "2                 None 2025-06-08 00:04:22         None      None       None  \n",
      "3               1.0.16 2025-06-07 10:40:29         None      None     1.0.16  \n",
      "4               1.0.16 2025-06-06 00:15:44         None      None     1.0.16  \n",
      "Saved 452 reviews to ../data/raw/dashen_reviews_20250610.csv\n"
     ]
    },
    {
     "name": "stderr",
     "output_type": "stream",
     "text": [
      "\n"
     ]
    },
    {
     "data": {
      "text/plain": [
       "'../data/raw/dashen_reviews_20250610.csv'"
      ]
     },
     "execution_count": 24,
     "metadata": {},
     "output_type": "execute_result"
    }
   ],
   "source": [
    "# First, make sure the scripts directory is in your Python path\n",
    "import sys\n",
    "sys.path.append('../scripts')\n",
    "\n",
    "from bank_scraper import fetch_app_info, scrape_reviews, save_reviews, BANK_APPS\n",
    "\n",
    "# Example: Fetch app info for CBE\n",
    "app_info = fetch_app_info(BANK_APPS['dashen'])\n",
    "print(app_info)\n",
    "\n",
    "# Example: Scrape reviews for BOA (limit to 100 for demo)\n",
    "df = scrape_reviews(BANK_APPS['dashen'], 'dashen', max_reviews=1000)\n",
    "print(df.head())\n",
    "\n",
    "# Save reviews to CSV (optional)\n",
    "save_reviews(df, 'dashen')"
   ]
  },
  {
   "cell_type": "code",
   "execution_count": 25,
   "id": "24dd8643",
   "metadata": {},
   "outputs": [],
   "source": [
    "from importer import import_reviews\n",
    "df = import_reviews(\"../data/raw/dashen_reviews_20250610.csv\")"
   ]
  },
  {
   "cell_type": "code",
   "execution_count": 26,
   "id": "ad444c26",
   "metadata": {},
   "outputs": [
    {
     "name": "stdout",
     "output_type": "stream",
     "text": [
      "<class 'pandas.core.frame.DataFrame'>\n",
      "RangeIndex: 452 entries, 0 to 451\n",
      "Data columns (total 11 columns):\n",
      " #   Column                Non-Null Count  Dtype  \n",
      "---  ------                --------------  -----  \n",
      " 0   reviewId              452 non-null    object \n",
      " 1   userName              452 non-null    object \n",
      " 2   userImage             452 non-null    object \n",
      " 3   content               452 non-null    object \n",
      " 4   score                 452 non-null    int64  \n",
      " 5   thumbsUpCount         452 non-null    int64  \n",
      " 6   reviewCreatedVersion  358 non-null    object \n",
      " 7   at                    452 non-null    object \n",
      " 8   replyContent          0 non-null      float64\n",
      " 9   repliedAt             0 non-null      float64\n",
      " 10  appVersion            358 non-null    object \n",
      "dtypes: float64(2), int64(2), object(7)\n",
      "memory usage: 39.0+ KB\n"
     ]
    }
   ],
   "source": [
    "df.info()"
   ]
  },
  {
   "cell_type": "code",
   "execution_count": 27,
   "id": "c45f657d",
   "metadata": {},
   "outputs": [],
   "source": [
    "df = df.drop(columns=['replyContent', 'repliedAt'])\n"
   ]
  },
  {
   "cell_type": "code",
   "execution_count": 28,
   "id": "54171178",
   "metadata": {},
   "outputs": [
    {
     "name": "stdout",
     "output_type": "stream",
     "text": [
      "<class 'pandas.core.frame.DataFrame'>\n",
      "RangeIndex: 452 entries, 0 to 451\n",
      "Data columns (total 9 columns):\n",
      " #   Column                Non-Null Count  Dtype         \n",
      "---  ------                --------------  -----         \n",
      " 0   reviewId              452 non-null    object        \n",
      " 1   userName              452 non-null    object        \n",
      " 2   userImage             452 non-null    object        \n",
      " 3   content               452 non-null    object        \n",
      " 4   score                 452 non-null    int64         \n",
      " 5   thumbsUpCount         452 non-null    int64         \n",
      " 6   reviewCreatedVersion  358 non-null    object        \n",
      " 7   at                    452 non-null    datetime64[ns]\n",
      " 8   appVersion            358 non-null    object        \n",
      "dtypes: datetime64[ns](1), int64(2), object(6)\n",
      "memory usage: 31.9+ KB\n"
     ]
    }
   ],
   "source": [
    "# convert date to datetime\n",
    "df['at'] = pd.to_datetime(df['at'], errors='coerce')\n",
    "\n",
    "# print type of at\n",
    "df.info()"
   ]
  },
  {
   "cell_type": "code",
   "execution_count": 29,
   "id": "d179938b",
   "metadata": {},
   "outputs": [],
   "source": [
    "from sentiment import analyze_sentiment\n",
    "\n",
    "\n",
    "# Apply sentiment analysis to each review and store in a new column\n",
    "df['sentiment'] = df['content'].apply(analyze_sentiment)\n"
   ]
  },
  {
   "cell_type": "code",
   "execution_count": null,
   "id": "54b370f6",
   "metadata": {},
   "outputs": [],
   "source": []
  },
  {
   "cell_type": "code",
   "execution_count": 30,
   "id": "8db44b78",
   "metadata": {},
   "outputs": [
    {
     "data": {
      "text/plain": [
       "reviewId                452\n",
       "userName                452\n",
       "userImage               452\n",
       "content                 452\n",
       "score                   452\n",
       "thumbsUpCount           452\n",
       "reviewCreatedVersion    358\n",
       "at                      452\n",
       "appVersion              358\n",
       "sentiment               452\n",
       "dtype: int64"
      ]
     },
     "execution_count": 30,
     "metadata": {},
     "output_type": "execute_result"
    }
   ],
   "source": [
    "df['sentiment'].value_counts()\n",
    "df.count()\n"
   ]
  }
 ],
 "metadata": {
  "kernelspec": {
   "display_name": "Python 3",
   "language": "python",
   "name": "python3"
  },
  "language_info": {
   "codemirror_mode": {
    "name": "ipython",
    "version": 3
   },
   "file_extension": ".py",
   "mimetype": "text/x-python",
   "name": "python",
   "nbconvert_exporter": "python",
   "pygments_lexer": "ipython3",
   "version": "3.13.3"
  }
 },
 "nbformat": 4,
 "nbformat_minor": 5
}
