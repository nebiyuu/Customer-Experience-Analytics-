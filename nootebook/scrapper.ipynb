{
 "cells": [
  {
   "cell_type": "code",
   "execution_count": null,
   "id": "3641ef17",
   "metadata": {},
   "outputs": [],
   "source": [
    "# First, make sure the scripts directory is in your Python path\n",
    "import sys\n",
    "sys.path.append('../scripts')\n",
    "\n",
    "from bank_scraper import fetch_app_info, scrape_reviews, save_reviews, BANK_APPS\n",
    "\n",
    "# Example: Fetch app info for CBE\n",
    "app_info = fetch_app_info(BANK_APPS['cbe'])\n",
    "print(app_info)\n",
    "\n",
    "# Example: Scrape reviews for CBE (limit to 100 for demo)\n",
    "df = scrape_reviews(BANK_APPS['cbe'], 'cbe', max_reviews=800)\n",
    "print(df.head())\n",
    "\n",
    "# Save reviews to CSV (optional)\n",
    "save_reviews(df, 'cbe')"
   ]
  },
  {
   "cell_type": "code",
   "execution_count": 15,
   "id": "f8eeda54",
   "metadata": {},
   "outputs": [],
   "source": [
    "from importer import import_reviews\n",
    "df = import_reviews(\"../data/raw/cbe_reviews_20250609.csv\")"
   ]
  },
  {
   "cell_type": "code",
   "execution_count": 16,
   "id": "f50d4db7",
   "metadata": {},
   "outputs": [
    {
     "name": "stdout",
     "output_type": "stream",
     "text": [
      "<class 'pandas.core.frame.DataFrame'>\n",
      "RangeIndex: 800 entries, 0 to 799\n",
      "Data columns (total 11 columns):\n",
      " #   Column                Non-Null Count  Dtype  \n",
      "---  ------                --------------  -----  \n",
      " 0   reviewId              800 non-null    object \n",
      " 1   userName              800 non-null    object \n",
      " 2   userImage             800 non-null    object \n",
      " 3   content               800 non-null    object \n",
      " 4   score                 800 non-null    int64  \n",
      " 5   thumbsUpCount         800 non-null    int64  \n",
      " 6   reviewCreatedVersion  633 non-null    object \n",
      " 7   at                    800 non-null    object \n",
      " 8   replyContent          0 non-null      float64\n",
      " 9   repliedAt             0 non-null      float64\n",
      " 10  appVersion            633 non-null    object \n",
      "dtypes: float64(2), int64(2), object(7)\n",
      "memory usage: 68.9+ KB\n"
     ]
    }
   ],
   "source": [
    "df.info()"
   ]
  },
  {
   "cell_type": "code",
   "execution_count": 17,
   "id": "a85b5f5c",
   "metadata": {},
   "outputs": [],
   "source": [
    "df = df.drop(columns=['replyContent', 'repliedAt'])\n"
   ]
  },
  {
   "cell_type": "code",
   "execution_count": 18,
   "id": "4080b5e8",
   "metadata": {},
   "outputs": [
    {
     "name": "stdout",
     "output_type": "stream",
     "text": [
      "<class 'pandas.core.frame.DataFrame'>\n",
      "RangeIndex: 800 entries, 0 to 799\n",
      "Data columns (total 9 columns):\n",
      " #   Column                Non-Null Count  Dtype         \n",
      "---  ------                --------------  -----         \n",
      " 0   reviewId              800 non-null    object        \n",
      " 1   userName              800 non-null    object        \n",
      " 2   userImage             800 non-null    object        \n",
      " 3   content               800 non-null    object        \n",
      " 4   score                 800 non-null    int64         \n",
      " 5   thumbsUpCount         800 non-null    int64         \n",
      " 6   reviewCreatedVersion  633 non-null    object        \n",
      " 7   at                    800 non-null    datetime64[ns]\n",
      " 8   appVersion            633 non-null    object        \n",
      "dtypes: datetime64[ns](1), int64(2), object(6)\n",
      "memory usage: 56.4+ KB\n"
     ]
    }
   ],
   "source": [
    "# convert date to datetime\n",
    "df['at'] = pd.to_datetime(df['at'], errors='coerce')\n",
    "\n",
    "# print type of at\n",
    "df.info()"
   ]
  },
  {
   "cell_type": "code",
   "execution_count": 21,
   "id": "4e9b196a",
   "metadata": {},
   "outputs": [],
   "source": [
    "from sentiment import analyze_sentiment\n",
    "\n",
    "# ...existing code...\n",
    "from sentiment import analyze_sentiment\n",
    "\n",
    "# Apply sentiment analysis to each review and store in a new column\n",
    "df['sentiment'] = df['content'].apply(analyze_sentiment)\n",
    "# ...existing code..."
   ]
  },
  {
   "cell_type": "code",
   "execution_count": 25,
   "id": "f33df740",
   "metadata": {},
   "outputs": [
    {
     "data": {
      "text/plain": [
       "sentiment\n",
       " 1    540\n",
       " 0    205\n",
       "-1     55\n",
       "Name: count, dtype: int64"
      ]
     },
     "execution_count": 25,
     "metadata": {},
     "output_type": "execute_result"
    }
   ],
   "source": [
    "df['sentiment'].value_counts()\n",
    "#df.info()"
   ]
  }
 ],
 "metadata": {
  "kernelspec": {
   "display_name": "Python 3",
   "language": "python",
   "name": "python3"
  },
  "language_info": {
   "codemirror_mode": {
    "name": "ipython",
    "version": 3
   },
   "file_extension": ".py",
   "mimetype": "text/x-python",
   "name": "python",
   "nbconvert_exporter": "python",
   "pygments_lexer": "ipython3",
   "version": "3.13.3"
  }
 },
 "nbformat": 4,
 "nbformat_minor": 5
}
